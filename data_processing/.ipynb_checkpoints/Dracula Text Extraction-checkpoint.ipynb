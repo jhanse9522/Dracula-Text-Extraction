{
 "cells": [
  {
   "cell_type": "code",
   "execution_count": 1,
   "metadata": {},
   "outputs": [
    {
     "ename": "FileNotFoundError",
     "evalue": "[Errno 2] No such file or directory: 'dracula2.txt'",
     "output_type": "error",
     "traceback": [
      "\u001b[0;31m---------------------------------------------------------------------------\u001b[0m",
      "\u001b[0;31mFileNotFoundError\u001b[0m                         Traceback (most recent call last)",
      "\u001b[0;32m<ipython-input-1-f4bd2d1b22cf>\u001b[0m in \u001b[0;36m<module>\u001b[0;34m\u001b[0m\n\u001b[0;32m----> 1\u001b[0;31m \u001b[0mfhand\u001b[0m \u001b[0;34m=\u001b[0m \u001b[0mopen\u001b[0m\u001b[0;34m(\u001b[0m\u001b[0;34m\"dracula2.txt\"\u001b[0m\u001b[0;34m,\u001b[0m \u001b[0;34m\"rt\"\u001b[0m\u001b[0;34m)\u001b[0m\u001b[0;34m\u001b[0m\u001b[0;34m\u001b[0m\u001b[0m\n\u001b[0m\u001b[1;32m      2\u001b[0m \u001b[0;34m\u001b[0m\u001b[0m\n\u001b[1;32m      3\u001b[0m \u001b[0mmy_file_string\u001b[0m \u001b[0;34m=\u001b[0m \u001b[0mfhand\u001b[0m\u001b[0;34m.\u001b[0m\u001b[0mread\u001b[0m\u001b[0;34m(\u001b[0m\u001b[0;34m)\u001b[0m\u001b[0;34m\u001b[0m\u001b[0;34m\u001b[0m\u001b[0m\n\u001b[1;32m      4\u001b[0m \u001b[0;34m\u001b[0m\u001b[0m\n\u001b[1;32m      5\u001b[0m \u001b[0mfhand\u001b[0m\u001b[0;34m.\u001b[0m\u001b[0mclose\u001b[0m\u001b[0;34m(\u001b[0m\u001b[0;34m)\u001b[0m\u001b[0;34m\u001b[0m\u001b[0;34m\u001b[0m\u001b[0m\n",
      "\u001b[0;31mFileNotFoundError\u001b[0m: [Errno 2] No such file or directory: 'dracula2.txt'"
     ]
    }
   ],
   "source": [
    "fhand = open(\"dracula2.txt\", \"rt\")\n",
    "\n",
    "my_file_string = fhand.read()\n",
    "\n",
    "fhand.close()"
   ]
  },
  {
   "cell_type": "code",
   "execution_count": null,
   "metadata": {},
   "outputs": [],
   "source": [
    "toc_start_pos = my_file_string.find(\"CONTENTS\")\n",
    "\n",
    "toc_end_pos = my_file_string.find(\"338\") + len(\"338\")\n",
    "toc_string = my_file_string[toc_start_pos:toc_end_pos]\n",
    "\n",
    "toc_list = toc_string.split(\"\\n\")\n",
    "\n",
    "target_word_list = []\n",
    "dirty_file_name_word_list = []\n",
    "for line in toc_list:\n",
    "    print()\n",
    "    print(\"line:\\n\" + line + \"\\n------\\n\")\n",
    "    print()\n",
    "\n",
    "    line.strip()\n",
    "    print(\"printing stripped line:\")\n",
    "    print(line)  # stripped line\n",
    "    if len(line) > 0 and line[-1].isdigit():\n",
    "        mini_word_list = line.split()\n",
    "        dirty_file_name_word_list.append(\" \".join(mini_word_list[:-1]))\n",
    "        print(\"dirty_file_name_word_list:\", dirty_file_name_word_list)\n",
    "    else:\n",
    "        print(\"not interested in this line\")\n",
    "print()\n",
    "\n",
    "print()"
   ]
  },
  {
   "cell_type": "code",
   "execution_count": null,
   "metadata": {},
   "outputs": [],
   "source": [
    "def clean_line(line_str):\n",
    "\n",
    "\n",
    "    cleanline = line_str\n",
    "    for punc in string.punctuation:\n",
    "\n",
    "        cleanline = cleanline.replace(punc, \"\")\n",
    "        final_cleanline = cleanline.replace(\" \", \"_\")\n",
    "    return final_cleanline\n",
    "\n",
    "\n",
    "def dress_line(final_cleanline):\n",
    "\n",
    "    final_file_name = \"Dracula-Chapter-\" + str(chap_count) + \"-\" + final_cleanline + \".txt\"\n",
    "    return final_file_name\n",
    "\n",
    "chap_count = 1\n",
    "the_fancied_file_name_list = []\n",
    "\n",
    "for file_name in dirty_file_name_word_list:\n",
    "    print(\"1) file_name:\", file_name)\n",
    "    print(\"2) \\n-----------\\n\")\n",
    "\n",
    "\n",
    "    the_fancied_file_name_list.append(dress_line(clean_line(file_name)))\n",
    "\n",
    "    print(\"3 ) the_fancied_file_name_list:\", the_fancied_file_name_list)\n",
    "\n",
    "    print(\"list now:\", the_fancied_file_name_list)\n",
    "    chap_count += 1\n",
    "\n",
    "print(\"4) the_fancied_file_name_list:\", the_fancied_file_name_list)"
   ]
  },
  {
   "cell_type": "code",
   "execution_count": null,
   "metadata": {},
   "outputs": [],
   "source": [
    "toc_end_pos = my_file_string.find(\"338\") + len(\"338\")\n",
    "\n",
    "start_here = my_file_string.find(\"DRACULA\", toc_end_pos) + len(\"DRACULA\")\n",
    "\n",
    "\n",
    "end_here = my_file_string.find(\"THE END\") + len(\"THE END\")\n",
    "\n",
    "\n",
    "my_chap_substring = my_file_string[start_here:end_here]\n",
    "\n",
    "\n",
    "\n",
    "my_chap_list = my_chap_substring.split(\"CHAPTER\")\n",
    "\n",
    "print(\"position to start the chap split:\", start_here)\n",
    "print(\"position to end the chap split:\", end_here)\n"
   ]
  },
  {
   "cell_type": "code",
   "execution_count": null,
   "metadata": {},
   "outputs": [],
   "source": [
    "chap_list = []\n",
    "chap_count = 0\n",
    "for chapter in my_chap_list:\n",
    "\n",
    "    if len(chapter) > len(\"CHAPTER\"):\n",
    "        chap_list.append(\"CHAPTER\" + chapter)\n",
    "        chap_count += 1\n",
    "\n",
    "print(chap_list)\n",
    "print(len(my_chap_list))\n",
    "\n",
    "\n",
    "for i in range(len(chap_list)):\n",
    "    fhandout = open(the_fancied_file_name_list[i], \"w\")\n",
    "    print(chap_list[i], file=fhandout)\n",
    "    print(chap_list[i], \"has been written to\", the_fancied_file_name_list[i])\n"
   ]
  },
  {
   "cell_type": "code",
   "execution_count": null,
   "metadata": {},
   "outputs": [],
   "source": []
  },
  {
   "cell_type": "code",
   "execution_count": null,
   "metadata": {},
   "outputs": [],
   "source": []
  }
 ],
 "metadata": {
  "kernelspec": {
   "display_name": "Python 3",
   "language": "python",
   "name": "python3"
  },
  "language_info": {
   "codemirror_mode": {
    "name": "ipython",
    "version": 3
   },
   "file_extension": ".py",
   "mimetype": "text/x-python",
   "name": "python",
   "nbconvert_exporter": "python",
   "pygments_lexer": "ipython3",
   "version": "3.7.4"
  }
 },
 "nbformat": 4,
 "nbformat_minor": 2
}
